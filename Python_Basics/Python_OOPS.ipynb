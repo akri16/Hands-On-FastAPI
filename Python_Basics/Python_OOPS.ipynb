{
  "nbformat": 4,
  "nbformat_minor": 0,
  "metadata": {
    "colab": {
      "name": "Python OOPS.ipynb",
      "provenance": [],
      "authorship_tag": "ABX9TyNRJuFOrO14xEYVFSq7BNB6",
      "include_colab_link": true
    },
    "kernelspec": {
      "name": "python3",
      "display_name": "Python 3"
    },
    "language_info": {
      "name": "python"
    }
  },
  "cells": [
    {
      "cell_type": "markdown",
      "metadata": {
        "id": "view-in-github",
        "colab_type": "text"
      },
      "source": [
        "<a href=\"https://colab.research.google.com/github/akri16/Hands-On-FastAPI/blob/master/Python_Basics/Python_OOPS.ipynb\" target=\"_parent\"><img src=\"https://colab.research.google.com/assets/colab-badge.svg\" alt=\"Open In Colab\"/></a>"
      ]
    },
    {
      "cell_type": "markdown",
      "metadata": {
        "id": "Z5LQejTY2sDp"
      },
      "source": [
        "\n",
        "\n",
        "*   \"\\__ XX __\" methods are built-in methods called **dunder methods**\n",
        "\n"
      ]
    },
    {
      "cell_type": "code",
      "metadata": {
        "id": "cl08pxQ1w6B8"
      },
      "source": [
        "# Class Declaration\n",
        "\n",
        "class MyClass:\n",
        "  # Class Variable: Same for all insances\n",
        "  classVar = 5\n",
        "\n",
        "  def __init__(self, c):\n",
        "    # Instance Variable: Different Instances will have diff values\n",
        "    self.instanceAttA = \"Hello\"\n",
        "    self.instanceAttB = \"World\"\n",
        "    self.instanceAttC = c\n"
      ],
      "execution_count": 18,
      "outputs": []
    },
    {
      "cell_type": "code",
      "metadata": {
        "colab": {
          "base_uri": "https://localhost:8080/"
        },
        "id": "YNfvz6TkzGxs",
        "outputId": "8d4b7219-8220-40fa-8b58-d70cd3de5dc6"
      },
      "source": [
        "# Object Instantiation\n",
        "\n",
        "obj = MyClass(6)\n",
        "print(obj.instanceAttA, obj.instanceAttB, obj.instanceAttC, MyClass.classVar)\n",
        "obj.instanceAttA = \"Fuck\"\n",
        "MyClass.classVar = 7\n",
        "print(obj.instanceAttA, obj.instanceAttB, obj.instanceAttC, obj.classVar)\n",
        "print(obj)"
      ],
      "execution_count": 15,
      "outputs": [
        {
          "output_type": "stream",
          "name": "stdout",
          "text": [
            "Hello World 6 7\n",
            "Fuck World 6 7\n",
            "<__main__.MyClass object at 0x7fa68e903050>\n"
          ]
        }
      ]
    },
    {
      "cell_type": "code",
      "metadata": {
        "id": "_IOanAAT2Myr"
      },
      "source": [
        "# Class Declaration\n",
        "\n",
        "class MyClass:\n",
        "  # Class Variable: Same for all insances\n",
        "  classVar = 5\n",
        "\n",
        "  def __init__(self, c):\n",
        "    # Instance Variable: Different Instances will have diff values\n",
        "    self.instanceAttA = \"Hello\"\n",
        "    self.instanceAttB = \"World\"\n",
        "    self.instanceAttC = c\n",
        "\n",
        "  # String to return for print(obj)\n",
        "  def __str__(self):\n",
        "    return f\"{obj.instanceAttA} {obj.instanceAttB} {obj.instanceAttC} {MyClass.classVar}\"\n",
        "\n",
        "  # Instance Method\n",
        "  def printIt(self):\n",
        "    print(obj.instanceAttA, obj.instanceAttB, obj.instanceAttC, MyClass.classVar)\n"
      ],
      "execution_count": 21,
      "outputs": []
    },
    {
      "cell_type": "code",
      "metadata": {
        "colab": {
          "base_uri": "https://localhost:8080/"
        },
        "id": "M0y0v2C20hj2",
        "outputId": "d36d943f-cd7b-4d4b-910b-90bff0e84e60"
      },
      "source": [
        "obj = MyClass(6)\n",
        "obj.printIt()\n",
        "print(obj)"
      ],
      "execution_count": 22,
      "outputs": [
        {
          "output_type": "stream",
          "name": "stdout",
          "text": [
            "Hello World 6 5\n",
            "Hello World 6 5\n"
          ]
        }
      ]
    },
    {
      "cell_type": "code",
      "metadata": {
        "id": "IqS-8MsR4FAP"
      },
      "source": [
        "class SuperClass(MyClass):\n",
        "\n",
        "  def __init__(self):\n",
        "    super().__init__(5)\n",
        "    print(\"Hi\")\n"
      ],
      "execution_count": 44,
      "outputs": []
    },
    {
      "cell_type": "code",
      "metadata": {
        "colab": {
          "base_uri": "https://localhost:8080/",
          "height": 52
        },
        "id": "7GybjmUH4WCH",
        "outputId": "dc6df42e-c3fa-46ed-81f1-46937b4c8226"
      },
      "source": [
        "obj = SuperClass()\n",
        "obj.instanceAttA"
      ],
      "execution_count": 43,
      "outputs": [
        {
          "output_type": "stream",
          "name": "stdout",
          "text": [
            "Hi\n"
          ]
        },
        {
          "output_type": "execute_result",
          "data": {
            "application/vnd.google.colaboratory.intrinsic+json": {
              "type": "string"
            },
            "text/plain": [
              "'Hello'"
            ]
          },
          "metadata": {},
          "execution_count": 43
        }
      ]
    },
    {
      "cell_type": "code",
      "metadata": {
        "id": "i5bLH6kl44Vn"
      },
      "source": [
        "class SuperClass(MyClass):\n",
        "  pass"
      ],
      "execution_count": 34,
      "outputs": []
    },
    {
      "cell_type": "code",
      "metadata": {
        "colab": {
          "base_uri": "https://localhost:8080/",
          "height": 35
        },
        "id": "RVKDcpnF48um",
        "outputId": "b7b7b485-7be2-4e9b-970e-7c8ddc59576f"
      },
      "source": [
        "obj = SuperClass(2)\n",
        "obj.instanceAttA"
      ],
      "execution_count": 35,
      "outputs": [
        {
          "output_type": "execute_result",
          "data": {
            "application/vnd.google.colaboratory.intrinsic+json": {
              "type": "string"
            },
            "text/plain": [
              "'Hello'"
            ]
          },
          "metadata": {},
          "execution_count": 35
        }
      ]
    },
    {
      "cell_type": "code",
      "metadata": {
        "id": "FX6LGU_z9ntL"
      },
      "source": [
        "class MyClass:\n",
        "\n",
        "  def __init__(self):\n",
        "    print(\"Hi\")\n",
        "\n",
        "  @staticmethod\n",
        "  def go():\n",
        "    print(\"go\")"
      ],
      "execution_count": 47,
      "outputs": []
    },
    {
      "cell_type": "code",
      "metadata": {
        "colab": {
          "base_uri": "https://localhost:8080/"
        },
        "id": "JxDbJkrr9qY0",
        "outputId": "7b82b376-9888-4ccb-a5e2-8a08aa803c22"
      },
      "source": [
        "obj = MyClass()\n",
        "MyClass.go()"
      ],
      "execution_count": 49,
      "outputs": [
        {
          "output_type": "stream",
          "name": "stdout",
          "text": [
            "Hi\n",
            "go\n"
          ]
        }
      ]
    },
    {
      "cell_type": "markdown",
      "metadata": {
        "id": "Z3hGN1VA_mQ4"
      },
      "source": [
        "__XX -> Private <br>\n",
        "_XX -> Protected <br>\n",
        "XX -> Public"
      ]
    },
    {
      "cell_type": "code",
      "metadata": {
        "id": "sR6j-1xr_SMI"
      },
      "source": [
        "class MyClass:\n",
        "\n",
        "  # private method\n",
        "  def __privateMethod(self):\n",
        "    print(\"Private Method Called\")\n",
        "\n",
        "  def __init__(self):\n",
        "    self.__privateVar = \"Hi\"\n",
        "    self._protectedVar = \"Hello\"\n",
        "    self.publicVar = \"Hola\"\n",
        "    self.__privateMethod()\n",
        "    print(\"Hi\")\n"
      ],
      "execution_count": 64,
      "outputs": []
    },
    {
      "cell_type": "code",
      "metadata": {
        "colab": {
          "base_uri": "https://localhost:8080/"
        },
        "id": "IWaCINStAGlF",
        "outputId": "036f4491-791a-4a52-ed1f-0f76dee784b7"
      },
      "source": [
        "a = MyClass()"
      ],
      "execution_count": 65,
      "outputs": [
        {
          "output_type": "stream",
          "name": "stdout",
          "text": [
            "Private Method Called\n",
            "Hi\n"
          ]
        }
      ]
    },
    {
      "cell_type": "code",
      "metadata": {
        "id": "eP2Dm_FVAktO"
      },
      "source": [
        ""
      ],
      "execution_count": null,
      "outputs": []
    }
  ]
}